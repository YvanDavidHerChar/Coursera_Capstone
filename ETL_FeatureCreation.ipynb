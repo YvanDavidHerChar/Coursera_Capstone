{
    "cells": [
        {
            "cell_type": "markdown",
            "metadata": {
                "collapsed": true
            },
            "source": "So last time, the kernel was dying as we tried to change the array to a pandas dataframe... Now we will transform the pictures to a smaller size using cv2, inspired by the YOLO implementation showed by the course. We will construct the labels as we want are 1 and 0 depending on what we will train. The objective beeing to prepare a parallel training and testing for a team of 3 small, ANN. "
        },
        {
            "cell_type": "code",
            "execution_count": 1,
            "metadata": {},
            "outputs": [
                {
                    "name": "stdout",
                    "output_type": "stream",
                    "text": "Requirement already satisfied: opencv-python in /opt/conda/envs/Python36/lib/python3.6/site-packages (4.2.0.34)\r\nRequirement already satisfied: numpy>=1.11.3 in /opt/conda/envs/Python36/lib/python3.6/site-packages (from opencv-python) (1.19.0)\r\n"
                }
            ],
            "source": "!pip install opencv-python\n"
        },
        {
            "cell_type": "code",
            "execution_count": 2,
            "metadata": {},
            "outputs": [],
            "source": "# The code was removed by Watson Studio for sharing."
        },
        {
            "cell_type": "markdown",
            "metadata": {},
            "source": "This last bit of code I got it from Stack Overflow https://stackoverflow.com/questions/48274094/watson-data-platform-how-to-unzip-the-zip-file-in-the-data-assets <br />\nI'll add here use cv2 to try to reduce the image size to 415 by 415, and at it is an iterative process I'll create as well the lables, as 1,2,3. This will be specially usefull when I'll try to pass it to a one-hot encoded format. "
        },
        {
            "cell_type": "code",
            "execution_count": 3,
            "metadata": {},
            "outputs": [
                {
                    "name": "stdout",
                    "output_type": "stream",
                    "text": "(852, 173056)\n"
                }
            ],
            "source": "import cv2\nfrom io import BytesIO\nimport zipfile\nimport matplotlib.pyplot as plt\nimport numpy as np\nimages = []\nlabels=[]\nstreambodies = [streaming_body_1,streaming_body_2,streaming_body_3]\ni=0\nfor streambody in streambodies:\n    i=i+1\n    zip_ref = zipfile.ZipFile(BytesIO(streambody.read()), 'r')\n    my_list_file = zip_ref.namelist()\n    for filepath in my_list_file:\n        if filepath[-1] == 'g':\n            image = cv2.imread(zip_ref.extract(filepath),0)\n            \n            #Resizing\n            image = cv2.resize(image, (416, 416))\n            #Normalization\n            image = image / 255.\n            \n            image = image.flatten()\n            labels.append(i)\n            images.append(image)\n    zip_ref.close()\nimages = np.array(images)\nlabels = np.array(labels)\nprint(np.shape(images))"
        },
        {
            "cell_type": "code",
            "execution_count": 4,
            "metadata": {},
            "outputs": [
                {
                    "name": "stdout",
                    "output_type": "stream",
                    "text": "(852, 173057)\n"
                },
                {
                    "data": {
                        "text/html": "<div>\n<style scoped>\n    .dataframe tbody tr th:only-of-type {\n        vertical-align: middle;\n    }\n\n    .dataframe tbody tr th {\n        vertical-align: top;\n    }\n\n    .dataframe thead th {\n        text-align: right;\n    }\n</style>\n<table border=\"1\" class=\"dataframe\">\n  <thead>\n    <tr style=\"text-align: right;\">\n      <th></th>\n      <th>0</th>\n      <th>1</th>\n      <th>2</th>\n      <th>3</th>\n      <th>4</th>\n      <th>5</th>\n      <th>6</th>\n      <th>7</th>\n      <th>8</th>\n      <th>9</th>\n      <th>...</th>\n      <th>173047</th>\n      <th>173048</th>\n      <th>173049</th>\n      <th>173050</th>\n      <th>173051</th>\n      <th>173052</th>\n      <th>173053</th>\n      <th>173054</th>\n      <th>173055</th>\n      <th>labels</th>\n    </tr>\n  </thead>\n  <tbody>\n    <tr>\n      <th>0</th>\n      <td>0.937255</td>\n      <td>0.941176</td>\n      <td>0.941176</td>\n      <td>0.941176</td>\n      <td>0.941176</td>\n      <td>0.941176</td>\n      <td>0.937255</td>\n      <td>0.941176</td>\n      <td>0.937255</td>\n      <td>0.941176</td>\n      <td>...</td>\n      <td>0.941176</td>\n      <td>0.945098</td>\n      <td>0.945098</td>\n      <td>0.941176</td>\n      <td>0.937255</td>\n      <td>0.937255</td>\n      <td>0.937255</td>\n      <td>0.941176</td>\n      <td>0.941176</td>\n      <td>1</td>\n    </tr>\n    <tr>\n      <th>1</th>\n      <td>0.933333</td>\n      <td>0.933333</td>\n      <td>0.937255</td>\n      <td>0.937255</td>\n      <td>0.933333</td>\n      <td>0.933333</td>\n      <td>0.933333</td>\n      <td>0.933333</td>\n      <td>0.929412</td>\n      <td>0.933333</td>\n      <td>...</td>\n      <td>0.933333</td>\n      <td>0.937255</td>\n      <td>0.933333</td>\n      <td>0.937255</td>\n      <td>0.933333</td>\n      <td>0.929412</td>\n      <td>0.929412</td>\n      <td>0.929412</td>\n      <td>0.933333</td>\n      <td>1</td>\n    </tr>\n    <tr>\n      <th>2</th>\n      <td>0.917647</td>\n      <td>0.917647</td>\n      <td>0.917647</td>\n      <td>0.917647</td>\n      <td>0.917647</td>\n      <td>0.921569</td>\n      <td>0.921569</td>\n      <td>0.917647</td>\n      <td>0.917647</td>\n      <td>0.917647</td>\n      <td>...</td>\n      <td>0.917647</td>\n      <td>0.925490</td>\n      <td>0.921569</td>\n      <td>0.921569</td>\n      <td>0.917647</td>\n      <td>0.917647</td>\n      <td>0.917647</td>\n      <td>0.921569</td>\n      <td>0.917647</td>\n      <td>1</td>\n    </tr>\n    <tr>\n      <th>3</th>\n      <td>0.941176</td>\n      <td>0.945098</td>\n      <td>0.945098</td>\n      <td>0.945098</td>\n      <td>0.941176</td>\n      <td>0.937255</td>\n      <td>0.945098</td>\n      <td>0.941176</td>\n      <td>0.941176</td>\n      <td>0.941176</td>\n      <td>...</td>\n      <td>0.941176</td>\n      <td>0.945098</td>\n      <td>0.941176</td>\n      <td>0.941176</td>\n      <td>0.941176</td>\n      <td>0.941176</td>\n      <td>0.941176</td>\n      <td>0.945098</td>\n      <td>0.945098</td>\n      <td>1</td>\n    </tr>\n    <tr>\n      <th>4</th>\n      <td>0.921569</td>\n      <td>0.921569</td>\n      <td>0.921569</td>\n      <td>0.921569</td>\n      <td>0.921569</td>\n      <td>0.917647</td>\n      <td>0.921569</td>\n      <td>0.917647</td>\n      <td>0.917647</td>\n      <td>0.921569</td>\n      <td>...</td>\n      <td>0.921569</td>\n      <td>0.921569</td>\n      <td>0.917647</td>\n      <td>0.917647</td>\n      <td>0.917647</td>\n      <td>0.913725</td>\n      <td>0.913725</td>\n      <td>0.921569</td>\n      <td>0.921569</td>\n      <td>1</td>\n    </tr>\n  </tbody>\n</table>\n<p>5 rows \u00d7 173057 columns</p>\n</div>",
                        "text/plain": "          0         1         2         3         4         5         6  \\\n0  0.937255  0.941176  0.941176  0.941176  0.941176  0.941176  0.937255   \n1  0.933333  0.933333  0.937255  0.937255  0.933333  0.933333  0.933333   \n2  0.917647  0.917647  0.917647  0.917647  0.917647  0.921569  0.921569   \n3  0.941176  0.945098  0.945098  0.945098  0.941176  0.937255  0.945098   \n4  0.921569  0.921569  0.921569  0.921569  0.921569  0.917647  0.921569   \n\n          7         8         9  ...    173047    173048    173049    173050  \\\n0  0.941176  0.937255  0.941176  ...  0.941176  0.945098  0.945098  0.941176   \n1  0.933333  0.929412  0.933333  ...  0.933333  0.937255  0.933333  0.937255   \n2  0.917647  0.917647  0.917647  ...  0.917647  0.925490  0.921569  0.921569   \n3  0.941176  0.941176  0.941176  ...  0.941176  0.945098  0.941176  0.941176   \n4  0.917647  0.917647  0.921569  ...  0.921569  0.921569  0.917647  0.917647   \n\n     173051    173052    173053    173054    173055  labels  \n0  0.937255  0.937255  0.937255  0.941176  0.941176       1  \n1  0.933333  0.929412  0.929412  0.929412  0.933333       1  \n2  0.917647  0.917647  0.917647  0.921569  0.917647       1  \n3  0.941176  0.941176  0.941176  0.945098  0.945098       1  \n4  0.917647  0.913725  0.913725  0.921569  0.921569       1  \n\n[5 rows x 173057 columns]"
                    },
                    "execution_count": 4,
                    "metadata": {},
                    "output_type": "execute_result"
                }
            ],
            "source": "df = pd.DataFrame(images)\ndf['labels'] = labels\nprint(np.shape(df))\ndf.head()\n"
        },
        {
            "cell_type": "markdown",
            "metadata": {},
            "source": "This looks preeeetty good. Let's create from the label column a one hot encoder to be able to train seperatly each ANN. "
        },
        {
            "cell_type": "code",
            "execution_count": 5,
            "metadata": {},
            "outputs": [
                {
                    "name": "stdout",
                    "output_type": "stream",
                    "text": "(852, 173059)\n"
                },
                {
                    "data": {
                        "text/html": "<div>\n<style scoped>\n    .dataframe tbody tr th:only-of-type {\n        vertical-align: middle;\n    }\n\n    .dataframe tbody tr th {\n        vertical-align: top;\n    }\n\n    .dataframe thead th {\n        text-align: right;\n    }\n</style>\n<table border=\"1\" class=\"dataframe\">\n  <thead>\n    <tr style=\"text-align: right;\">\n      <th></th>\n      <th>0</th>\n      <th>1</th>\n      <th>2</th>\n      <th>3</th>\n      <th>4</th>\n      <th>5</th>\n      <th>6</th>\n      <th>7</th>\n      <th>8</th>\n      <th>9</th>\n      <th>...</th>\n      <th>173049</th>\n      <th>173050</th>\n      <th>173051</th>\n      <th>173052</th>\n      <th>173053</th>\n      <th>173054</th>\n      <th>173055</th>\n      <th>label_1</th>\n      <th>label_2</th>\n      <th>label_3</th>\n    </tr>\n  </thead>\n  <tbody>\n    <tr>\n      <th>0</th>\n      <td>0.937255</td>\n      <td>0.941176</td>\n      <td>0.941176</td>\n      <td>0.941176</td>\n      <td>0.941176</td>\n      <td>0.941176</td>\n      <td>0.937255</td>\n      <td>0.941176</td>\n      <td>0.937255</td>\n      <td>0.941176</td>\n      <td>...</td>\n      <td>0.945098</td>\n      <td>0.941176</td>\n      <td>0.937255</td>\n      <td>0.937255</td>\n      <td>0.937255</td>\n      <td>0.941176</td>\n      <td>0.941176</td>\n      <td>1</td>\n      <td>0</td>\n      <td>0</td>\n    </tr>\n    <tr>\n      <th>1</th>\n      <td>0.933333</td>\n      <td>0.933333</td>\n      <td>0.937255</td>\n      <td>0.937255</td>\n      <td>0.933333</td>\n      <td>0.933333</td>\n      <td>0.933333</td>\n      <td>0.933333</td>\n      <td>0.929412</td>\n      <td>0.933333</td>\n      <td>...</td>\n      <td>0.933333</td>\n      <td>0.937255</td>\n      <td>0.933333</td>\n      <td>0.929412</td>\n      <td>0.929412</td>\n      <td>0.929412</td>\n      <td>0.933333</td>\n      <td>1</td>\n      <td>0</td>\n      <td>0</td>\n    </tr>\n    <tr>\n      <th>2</th>\n      <td>0.917647</td>\n      <td>0.917647</td>\n      <td>0.917647</td>\n      <td>0.917647</td>\n      <td>0.917647</td>\n      <td>0.921569</td>\n      <td>0.921569</td>\n      <td>0.917647</td>\n      <td>0.917647</td>\n      <td>0.917647</td>\n      <td>...</td>\n      <td>0.921569</td>\n      <td>0.921569</td>\n      <td>0.917647</td>\n      <td>0.917647</td>\n      <td>0.917647</td>\n      <td>0.921569</td>\n      <td>0.917647</td>\n      <td>1</td>\n      <td>0</td>\n      <td>0</td>\n    </tr>\n    <tr>\n      <th>3</th>\n      <td>0.941176</td>\n      <td>0.945098</td>\n      <td>0.945098</td>\n      <td>0.945098</td>\n      <td>0.941176</td>\n      <td>0.937255</td>\n      <td>0.945098</td>\n      <td>0.941176</td>\n      <td>0.941176</td>\n      <td>0.941176</td>\n      <td>...</td>\n      <td>0.941176</td>\n      <td>0.941176</td>\n      <td>0.941176</td>\n      <td>0.941176</td>\n      <td>0.941176</td>\n      <td>0.945098</td>\n      <td>0.945098</td>\n      <td>1</td>\n      <td>0</td>\n      <td>0</td>\n    </tr>\n    <tr>\n      <th>4</th>\n      <td>0.921569</td>\n      <td>0.921569</td>\n      <td>0.921569</td>\n      <td>0.921569</td>\n      <td>0.921569</td>\n      <td>0.917647</td>\n      <td>0.921569</td>\n      <td>0.917647</td>\n      <td>0.917647</td>\n      <td>0.921569</td>\n      <td>...</td>\n      <td>0.917647</td>\n      <td>0.917647</td>\n      <td>0.917647</td>\n      <td>0.913725</td>\n      <td>0.913725</td>\n      <td>0.921569</td>\n      <td>0.921569</td>\n      <td>1</td>\n      <td>0</td>\n      <td>0</td>\n    </tr>\n  </tbody>\n</table>\n<p>5 rows \u00d7 173059 columns</p>\n</div>",
                        "text/plain": "          0         1         2         3         4         5         6  \\\n0  0.937255  0.941176  0.941176  0.941176  0.941176  0.941176  0.937255   \n1  0.933333  0.933333  0.937255  0.937255  0.933333  0.933333  0.933333   \n2  0.917647  0.917647  0.917647  0.917647  0.917647  0.921569  0.921569   \n3  0.941176  0.945098  0.945098  0.945098  0.941176  0.937255  0.945098   \n4  0.921569  0.921569  0.921569  0.921569  0.921569  0.917647  0.921569   \n\n          7         8         9  ...    173049    173050    173051    173052  \\\n0  0.941176  0.937255  0.941176  ...  0.945098  0.941176  0.937255  0.937255   \n1  0.933333  0.929412  0.933333  ...  0.933333  0.937255  0.933333  0.929412   \n2  0.917647  0.917647  0.917647  ...  0.921569  0.921569  0.917647  0.917647   \n3  0.941176  0.941176  0.941176  ...  0.941176  0.941176  0.941176  0.941176   \n4  0.917647  0.917647  0.921569  ...  0.917647  0.917647  0.917647  0.913725   \n\n     173053    173054    173055  label_1  label_2  label_3  \n0  0.937255  0.941176  0.941176        1        0        0  \n1  0.929412  0.929412  0.933333        1        0        0  \n2  0.917647  0.921569  0.917647        1        0        0  \n3  0.941176  0.945098  0.945098        1        0        0  \n4  0.913725  0.921569  0.921569        1        0        0  \n\n[5 rows x 173059 columns]"
                    },
                    "execution_count": 5,
                    "metadata": {},
                    "output_type": "execute_result"
                }
            ],
            "source": "df = pd.concat([df,pd.get_dummies(df['labels'], prefix='label')],axis=1)\ndf.drop(['labels'],axis=1, inplace=True)\n\nprint(np.shape(df))\n\ndf.head()"
        },
        {
            "cell_type": "markdown",
            "metadata": {},
            "source": "Looks like we are ready to train to identify each object! Let's go!"
        },
        {
            "cell_type": "code",
            "execution_count": null,
            "metadata": {},
            "outputs": [],
            "source": ""
        }
    ],
    "metadata": {
        "kernelspec": {
            "display_name": "Python 3.6",
            "language": "python",
            "name": "python3"
        },
        "language_info": {
            "codemirror_mode": {
                "name": "ipython",
                "version": 3
            },
            "file_extension": ".py",
            "mimetype": "text/x-python",
            "name": "python",
            "nbconvert_exporter": "python",
            "pygments_lexer": "ipython3",
            "version": "3.6.9"
        }
    },
    "nbformat": 4,
    "nbformat_minor": 1
}